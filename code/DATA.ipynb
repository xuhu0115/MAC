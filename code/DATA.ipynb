{
 "cells": [
  {
   "cell_type": "code",
   "execution_count": null,
   "metadata": {},
   "outputs": [],
   "source": [
    "!pip install datasets"
   ]
  },
  {
   "cell_type": "code",
   "execution_count": 3,
   "metadata": {},
   "outputs": [
    {
     "name": "stderr",
     "output_type": "stream",
     "text": [
      "d:\\applications\\miniconda\\envs\\debate\\lib\\site-packages\\tqdm\\auto.py:21: TqdmWarning: IProgress not found. Please update jupyter and ipywidgets. See https://ipywidgets.readthedocs.io/en/stable/user_install.html\n",
      "  from .autonotebook import tqdm as notebook_tqdm\n",
      "d:\\applications\\miniconda\\envs\\debate\\lib\\site-packages\\huggingface_hub\\file_download.py:140: UserWarning: `huggingface_hub` cache-system uses symlinks by default to efficiently store duplicated files but your machine does not support them in C:\\Users\\xuhu\\.cache\\huggingface\\hub\\datasets--sentence-transformers--all-nli. Caching files will still work but in a degraded version that might require more space on your disk. This warning can be disabled by setting the `HF_HUB_DISABLE_SYMLINKS_WARNING` environment variable. For more details, see https://huggingface.co/docs/huggingface_hub/how-to-cache#limitations.\n",
      "To support symlinks on Windows, you either need to activate Developer Mode or to run Python as an administrator. In order to activate developer mode, see this article: https://docs.microsoft.com/en-us/windows/apps/get-started/enable-your-device-for-development\n",
      "  warnings.warn(message)\n",
      "Generating train split: 100%|██████████| 942069/942069 [00:00<00:00, 1625843.73 examples/s]\n",
      "Generating dev split: 100%|██████████| 19657/19657 [00:00<00:00, 817452.42 examples/s]\n",
      "Generating test split: 100%|██████████| 19656/19656 [00:00<00:00, 1228351.08 examples/s]\n"
     ]
    }
   ],
   "source": [
    "from datasets import load_dataset\n",
    "\n",
    "ds = load_dataset(\"sentence-transformers/all-nli\", \"pair-score\")"
   ]
  },
  {
   "cell_type": "code",
   "execution_count": 1,
   "metadata": {},
   "outputs": [
    {
     "name": "stderr",
     "output_type": "stream",
     "text": [
      "d:\\applications\\miniconda\\envs\\debate\\lib\\site-packages\\tqdm\\auto.py:21: TqdmWarning: IProgress not found. Please update jupyter and ipywidgets. See https://ipywidgets.readthedocs.io/en/stable/user_install.html\n",
      "  from .autonotebook import tqdm as notebook_tqdm\n"
     ]
    }
   ],
   "source": [
    "from datasets import load_dataset\n",
    "# or load the separate splits if the dataset has train/validation/test splits\n",
    "valid_mis_dataset  = load_dataset(\"nyu-mll/multi_nli\", split=\"validation_mismatched\", cache_dir= \"D:/common_file/SJU/Obsidian_vault/09_project/reading/ACL/dataset/NLI/\")"
   ]
  },
  {
   "cell_type": "code",
   "execution_count": 2,
   "metadata": {},
   "outputs": [
    {
     "name": "stdout",
     "output_type": "stream",
     "text": [
      "DatasetInfo(description='', citation='', homepage='', license='', features={'promptID': Value(dtype='int32', id=None), 'pairID': Value(dtype='string', id=None), 'premise': Value(dtype='string', id=None), 'premise_binary_parse': Value(dtype='string', id=None), 'premise_parse': Value(dtype='string', id=None), 'hypothesis': Value(dtype='string', id=None), 'hypothesis_binary_parse': Value(dtype='string', id=None), 'hypothesis_parse': Value(dtype='string', id=None), 'genre': Value(dtype='string', id=None), 'label': ClassLabel(names=['entailment', 'neutral', 'contradiction'], id=None)}, post_processed=None, supervised_keys=None, builder_name='parquet', dataset_name='multi_nli', config_name='default', version=0.0.0, splits={'train': SplitInfo(name='train', num_bytes=410308482, num_examples=392702, shard_lengths=None, dataset_name='multi_nli'), 'validation_matched': SplitInfo(name='validation_matched', num_bytes=10066361, num_examples=9815, shard_lengths=None, dataset_name='multi_nli'), 'validation_mismatched': SplitInfo(name='validation_mismatched', num_bytes=10612647, num_examples=9832, shard_lengths=None, dataset_name='multi_nli')}, download_checksums={'hf://datasets/nyu-mll/multi_nli@da70db2af9d09693783c3320c4249840212ee221/data/train-00000-of-00001.parquet': {'num_bytes': 213961663, 'checksum': None}, 'hf://datasets/nyu-mll/multi_nli@da70db2af9d09693783c3320c4249840212ee221/data/validation_matched-00000-of-00001.parquet': {'num_bytes': 4938568, 'checksum': None}, 'hf://datasets/nyu-mll/multi_nli@da70db2af9d09693783c3320c4249840212ee221/data/validation_mismatched-00000-of-00001.parquet': {'num_bytes': 5104992, 'checksum': None}}, download_size=224005223, post_processing_size=None, dataset_size=430987490, size_in_bytes=654992713)\n",
      "{'promptID': 75290, 'pairID': '75290c', 'premise': 'Your contribution helped make it possible for us to provide our students with a quality education.', 'premise_binary_parse': '( ( Your contribution ) ( ( helped ( make ( it ( possible ( for ( us ( to ( ( provide ( our students ) ) ( with ( a ( quality education ) ) ) ) ) ) ) ) ) ) ) . ) )', 'premise_parse': '(ROOT (S (NP (PRP$ Your) (NN contribution)) (VP (VBD helped) (VP (VB make) (S (NP (PRP it)) (ADJP (JJ possible)) (SBAR (IN for) (S (NP (PRP us)) (VP (TO to) (VP (VB provide) (NP (PRP$ our) (NNS students)) (PP (IN with) (NP (DT a) (NN quality) (NN education)))))))))) (. .)))', 'hypothesis': \"Your contributions were of no help with our students' education.\", 'hypothesis_binary_parse': \"( ( Your contributions ) ( ( were ( of ( ( no help ) ( with ( ( our ( students ' ) ) education ) ) ) ) ) . ) )\", 'hypothesis_parse': \"(ROOT (S (NP (PRP$ Your) (NNS contributions)) (VP (VBD were) (PP (IN of) (NP (NP (DT no) (NN help)) (PP (IN with) (NP (NP (PRP$ our) (NNS students) (POS ')) (NN education)))))) (. .)))\", 'genre': 'letters', 'label': 2}\n",
      "{'promptID': 133794, 'pairID': '133794c', 'premise': \"The answer has nothing to do with their cause, however, but with the simple fact that dictionaries are not exercises in bi-unique substitutability; in other words, if one of the senses of run is `operate' (as in She runs an engine factory ), that does not make it valid to assume that one can substitute operate for run in We run in the marathon every year .  Although recognizing this as a shortcoming of dictionaries and assigning it arbitrarily to what, for lack of a better term, we might call the  genius  of the language, might seem trivial to the casual observer, it is a valid matter for concern in the realm of lexicology.\", 'premise_binary_parse': \"( ( ( ( ( ( The answer ) ( ( ( ( has nothing ) ( to ( do ( with ( their cause ) ) ) ) ) , ) however ) ) , ) but ) ( ( with ( ( ( ( ( ( ( ( the ( simple fact ) ) ( that ( dictionaries ( ( are not ) ( exercises ( in ( bi-unique substitutability ) ) ) ) ) ) ) ; ) ( in ( ( ( other words ) , ) ( if ( ( one ( of ( ( the senses ) ( of run ) ) ) ) ( ( is ` ) ( ( ( ( operate ' ) -LRB- ) ( as ( in ( She ( runs ( an ( engine factory ) ) ) ) ) ) ) -RRB- ) ) ) ) ) ) ) , ) ( that ( ( does not ) ( ( make it ) ( ( valid ( to ( assume ( that ( one ( can ( substitute ( ( operate ( for run ) ) ( in ( We ( ( run ( in ( ( the marathon ) ( every year ) ) ) ) . ) ) ) ) ) ) ) ) ) ) ) ( Although ( ( ( ( recognizing this ) ( as ( ( a shortcoming ) ( of dictionaries ) ) ) ) and ) ( ( ( assigning it ) arbitrarily ) ( to ( what ( , ( ( for ( lack ( of ( a ( better term ) ) ) ) ) ( , ( we ( might ( call ( ( the genius ) ( of ( the language ) ) ) ) ) ) ) ) ) ) ) ) ) ) ) ) ) ) ) , ) ( might ( seem ( trivial ( to ( the ( casual observer ) ) ) ) ) ) ) ) ( , ( it ( is ( ( a ( valid matter ) ) ( for ( concern ( in ( ( the realm ) ( of lexicology ) ) ) ) ) ) ) ) ) ) ) . )\", 'premise_parse': \"(ROOT (S (S (NP (DT The) (NN answer)) (VP (VBZ has) (ADVP (NN nothing)) (S (VP (TO to) (VP (VB do) (PP (IN with) (NP (PRP$ their) (NN cause)))))) (, ,) (ADVP (RB however)))) (, ,) (CC but) (S (SBAR (IN with) (S (NP (NP (DT the) (JJ simple) (NN fact)) (SBAR (IN that) (S (NP (NNS dictionaries)) (VP (VBP are) (RB not) (NP (NP (NNS exercises)) (PP (IN in) (NP (JJ bi-unique) (NN substitutability))))))) (: ;) (PP (IN in) (NP (NP (JJ other) (NNS words)) (, ,) (SBAR (IN if) (S (NP (NP (CD one)) (PP (IN of) (NP (NP (DT the) (NNS senses)) (PP (IN of) (NP (NN run)))))) (VP (VBZ is) (`` `) (VP (VB operate) ('' ') (-LRB- -LRB-) (SBAR (RB as) (IN in) (S (NP (PRP She)) (VP (VBZ runs) (NP (DT an) (NN engine) (NN factory))))) (-RRB- -RRB-))))))) (, ,) (SBAR (WHNP (WDT that)) (S (VP (VBZ does) (RB not) (VP (VB make) (NP (PRP it)) (S (ADJP (JJ valid) (S (VP (TO to) (VP (VB assume) (SBAR (IN that) (S (NP (PRP one)) (VP (MD can) (VP (VB substitute) (VP (VB operate) (PP (IN for) (NP (NN run))) (SBAR (IN in) (S (NP (PRP We)) (VP (VB run) (PP (IN in) (NP (NP (DT the) (NN marathon)) (NP (DT every) (NN year)))) (. .))))))))))))) (SBAR (IN Although) (S (S (VP (VBG recognizing) (NP (DT this)) (PP (IN as) (NP (NP (DT a) (NN shortcoming)) (PP (IN of) (NP (NNS dictionaries))))))) (CC and) (S (VP (VBG assigning) (NP (PRP it)) (ADVP (RB arbitrarily)) (PP (TO to) (SBAR (WHNP (WP what)) (S (, ,) (PP (IN for) (NP (NP (NN lack)) (PP (IN of) (NP (DT a) (JJR better) (NN term))))) (, ,) (NP (PRP we)) (VP (MD might) (VP (VB call) (NP (NP (DT the) (NN genius)) (PP (IN of) (NP (DT the) (NN language)))))))))))))))))) (, ,)) (VP (MD might) (VP (VB seem) (ADJP (JJ trivial) (PP (TO to) (NP (DT the) (JJ casual) (NN observer)))))))) (, ,) (NP (PRP it)) (VP (VBZ is) (NP (NP (DT a) (JJ valid) (NN matter)) (PP (IN for) (NP (NP (NN concern)) (PP (IN in) (NP (NP (DT the) (NN realm)) (PP (IN of) (NP (NN lexicology)))))))))) (. .)))\", 'hypothesis': 'Dictionaries are indeed exercises in bi-unique substitutability.', 'hypothesis_binary_parse': '( Dictionaries ( ( ( are indeed ) ( exercises ( in ( bi-unique substitutability ) ) ) ) . ) )', 'hypothesis_parse': '(ROOT (S (NP (NNS Dictionaries)) (VP (VBP are) (ADVP (RB indeed)) (NP (NP (NNS exercises)) (PP (IN in) (NP (JJ bi-unique) (NN substitutability))))) (. .)))', 'genre': 'verbatim', 'label': 2}\n",
      "{'promptID': 3628, 'pairID': '3628c', 'premise': ' We serve a classic Tuscan meal that includes a Florentine terrine made with dick and chicken livers.', 'premise_binary_parse': '( We ( ( serve ( ( a ( classic ( Tuscan meal ) ) ) ( that ( includes ( ( a ( Florentine terrine ) ) ( made ( with ( dick ( and ( chicken livers ) ) ) ) ) ) ) ) ) ) . ) )', 'premise_parse': '(ROOT (S (NP (PRP We)) (VP (VBP serve) (NP (NP (DT a) (JJ classic) (NNP Tuscan) (NN meal)) (SBAR (WHNP (WDT that)) (S (VP (VBZ includes) (NP (NP (DT a) (JJ Florentine) (NN terrine)) (VP (VBN made) (PP (IN with) (NP (NN dick) (CC and) (NN chicken) (NNS livers)))))))))) (. .)))', 'hypothesis': 'We serve a meal of Florentine terrine.', 'hypothesis_binary_parse': '( We ( ( serve ( ( a meal ) ( of ( Florentine terrine ) ) ) ) . ) )', 'hypothesis_parse': '(ROOT (S (NP (PRP We)) (VP (VBP serve) (NP (NP (DT a) (NN meal)) (PP (IN of) (NP (NNP Florentine) (NN terrine))))) (. .)))', 'genre': 'verbatim', 'label': 0}\n"
     ]
    }
   ],
   "source": [
    "# 打印数据集信息\n",
    "print(valid_mis_dataset.info)\n",
    "\n",
    "# 查看数据集的前几条记录\n",
    "for record in valid_mis_dataset.take(3):\n",
    "    print(record)"
   ]
  },
  {
   "cell_type": "code",
   "execution_count": null,
   "metadata": {},
   "outputs": [],
   "source": [
    "# 定义候选标签\n",
    "candidate_labels = [\"entailment\", \"neutral\", \"contradiction\"]\n",
    "\n",
    "# 准备评测函数\n",
    "def evaluate_model(dataset):\n",
    "    correct_predictions = 0\n",
    "    total_predictions = 0\n",
    "    \n",
    "    for record in dataset:\n",
    "        # 构造提示\n",
    "        prompt = f\"Given the premise: \\\"{record['premise']}\\\" and the hypothesis: \\\"{record['hypothesis']}\\\", determine if the hypothesis is entailed by, contradicts, or is neutral with respect to the premise.\"\n",
    "        \n",
    "        # 使用模型进行推理\n",
    "        result = nli_classifier(prompt, candidate_labels)\n",
    "        \n",
    "        # 获取模型预测的结果\n",
    "        predicted_label = result['labels'][0]\n",
    "        \n",
    "        # 检查预测是否正确\n",
    "        if predicted_label == record['label']:\n",
    "            correct_predictions += 1\n",
    "        total_predictions += 1\n",
    "        \n",
    "    accuracy = correct_predictions / total_predictions\n",
    "    return accuracy\n",
    "\n",
    "# 评估模型\n",
    "accuracy = evaluate_model(valid_mis_dataset)\n",
    "print(f\"The model's accuracy on the validation_mismatched set is {accuracy:.2f}\")"
   ]
  }
 ],
 "metadata": {
  "kernelspec": {
   "display_name": "debate",
   "language": "python",
   "name": "python3"
  },
  "language_info": {
   "codemirror_mode": {
    "name": "ipython",
    "version": 3
   },
   "file_extension": ".py",
   "mimetype": "text/x-python",
   "name": "python",
   "nbconvert_exporter": "python",
   "pygments_lexer": "ipython3",
   "version": "3.10.15"
  }
 },
 "nbformat": 4,
 "nbformat_minor": 2
}
